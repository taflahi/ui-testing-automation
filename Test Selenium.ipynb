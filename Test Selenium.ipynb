{
 "cells": [
  {
   "cell_type": "code",
   "execution_count": 1,
   "id": "c06859f2",
   "metadata": {},
   "outputs": [],
   "source": [
    "from selenium import webdriver\n",
    "from selenium.webdriver.common.keys import Keys\n",
    "from selenium.webdriver.common.by import By\n",
    "from selenium.webdriver.chrome.options import Options\n",
    "import time"
   ]
  },
  {
   "cell_type": "code",
   "execution_count": 2,
   "id": "45ee5c74",
   "metadata": {},
   "outputs": [],
   "source": [
    "# driver = webdriver.Chrome(executable_path=\"C:\\\\Users\\\\Tirmidzi\\\\Documents\\\\Codes\\\\drivers\\\\chromedriver.exe\")\n",
    "# driver.get(\"http://www.python.org\")\n",
    "# assert \"Python\" in driver.title\n",
    "# elem = driver.find_element_by_name(\"q\")\n",
    "# elem.clear()\n",
    "# elem.send_keys(\"pycon\")\n",
    "# elem.send_keys(Keys.RETURN)\n",
    "# assert \"No results found.\" not in driver.page_source\n",
    "# driver.close()"
   ]
  },
  {
   "cell_type": "code",
   "execution_count": 5,
   "id": "e5e01861",
   "metadata": {},
   "outputs": [
    {
     "name": "stderr",
     "output_type": "stream",
     "text": [
      "<ipython-input-5-28d884a7254a>:4: DeprecationWarning: executable_path has been deprecated, please pass in a Service object\n",
      "  driver = webdriver.Chrome(\"C:\\\\Users\\\\Tirmidzi\\\\Documents\\\\Codes\\\\drivers\\\\chromedriver.exe\", chrome_options=options)\n",
      "<ipython-input-5-28d884a7254a>:4: DeprecationWarning: use options instead of chrome_options\n",
      "  driver = webdriver.Chrome(\"C:\\\\Users\\\\Tirmidzi\\\\Documents\\\\Codes\\\\drivers\\\\chromedriver.exe\", chrome_options=options)\n"
     ]
    }
   ],
   "source": [
    "options = Options()\n",
    "options.add_argument('--headless')\n",
    "# options.add_argument('start-maximized')\n",
    "driver = webdriver.Chrome(\"C:\\\\Users\\\\Tirmidzi\\\\Documents\\\\Codes\\\\drivers\\\\chromedriver.exe\", chrome_options=options)\n",
    "driver.set_window_size(1920, 1080)\n",
    "driver.get(\"http://localhost:3000\")"
   ]
  },
  {
   "cell_type": "code",
   "execution_count": 6,
   "id": "84d96cc9",
   "metadata": {},
   "outputs": [],
   "source": [
    "elem = driver.find_element(By.LINK_TEXT, 'User Registration')\n",
    "elem.click()"
   ]
  },
  {
   "cell_type": "code",
   "execution_count": 7,
   "id": "7ae6335a",
   "metadata": {},
   "outputs": [],
   "source": [
    "elem = driver.find_element(By.ID, 'lastName')\n",
    "elem.clear()\n",
    "elem.send_keys(\"Aflahi\")"
   ]
  },
  {
   "cell_type": "code",
   "execution_count": 8,
   "id": "8a83091c",
   "metadata": {},
   "outputs": [],
   "source": [
    "elem = driver.find_element(By.ID, 'firstName')\n",
    "elem.clear()\n",
    "elem.send_keys(\"Tirmidzi\")"
   ]
  },
  {
   "cell_type": "code",
   "execution_count": 9,
   "id": "210812f8",
   "metadata": {},
   "outputs": [],
   "source": [
    "elem = driver.find_element(By.ID, 'userName')\n",
    "elem.clear()\n",
    "elem.send_keys(\"taflahi\")"
   ]
  },
  {
   "cell_type": "code",
   "execution_count": 10,
   "id": "3f597922",
   "metadata": {},
   "outputs": [],
   "source": [
    "elem = driver.find_element(By.ID, 'email')\n",
    "elem.clear()\n",
    "elem.send_keys(\"taflahi@gmail.com\")"
   ]
  },
  {
   "cell_type": "code",
   "execution_count": 11,
   "id": "05a1c970",
   "metadata": {},
   "outputs": [],
   "source": [
    "elem = driver.find_element(By.XPATH, '//button[text()=\"REGISTER\"]')\n",
    "elem.click()"
   ]
  },
  {
   "cell_type": "code",
   "execution_count": 10,
   "id": "ac21133d",
   "metadata": {},
   "outputs": [],
   "source": [
    "# elem = driver.find_elements(By.XPATH, '//button[text()=\"DELETE\"]')[2]\n",
    "# elem.click()"
   ]
  },
  {
   "cell_type": "code",
   "execution_count": 11,
   "id": "6f9f58fd",
   "metadata": {},
   "outputs": [],
   "source": [
    "# driver.close()"
   ]
  },
  {
   "cell_type": "code",
   "execution_count": 12,
   "id": "98642e52",
   "metadata": {},
   "outputs": [
    {
     "data": {
      "text/plain": [
       "26"
      ]
     },
     "execution_count": 12,
     "metadata": {},
     "output_type": "execute_result"
    }
   ],
   "source": [
    "time.sleep(10)\n",
    "elem = driver.find_elements(By.CLASS_NAME, 'user-item')\n",
    "len(elem)"
   ]
  },
  {
   "cell_type": "code",
   "execution_count": 13,
   "id": "083f4acb",
   "metadata": {},
   "outputs": [
    {
     "data": {
      "text/plain": [
       "<selenium.webdriver.remote.webelement.WebElement (session=\"a5bec8bd594f148103f1a34f2fd50885\", element=\"a26fe0df-c25b-4780-b049-e405dd1f8aeb\")>"
      ]
     },
     "execution_count": 13,
     "metadata": {},
     "output_type": "execute_result"
    }
   ],
   "source": [
    "elem = driver.find_element(By.XPATH, '//div[text()=\"taflahi@gmail.com\"]')\n",
    "elem"
   ]
  },
  {
   "cell_type": "code",
   "execution_count": 14,
   "id": "98e8b697",
   "metadata": {},
   "outputs": [
    {
     "data": {
      "text/plain": [
       "'taflahi@gmail.com'"
      ]
     },
     "execution_count": 14,
     "metadata": {},
     "output_type": "execute_result"
    }
   ],
   "source": [
    "elem.text"
   ]
  },
  {
   "cell_type": "code",
   "execution_count": 16,
   "id": "abab7074",
   "metadata": {},
   "outputs": [
    {
     "ename": "NoSuchElementException",
     "evalue": "Message: no such element: Unable to locate element: {\"method\":\"xpath\",\"selector\":\"//div[text()=\"taflahi@gmail.com\"]/following-sibling::div\"}\n  (Session info: headless chrome=96.0.4664.110)\nStacktrace:\nBacktrace:\n\tOrdinal0 [0x009C6903+2517251]\n\tOrdinal0 [0x0095F8E1+2095329]\n\tOrdinal0 [0x00862848+1058888]\n\tOrdinal0 [0x0088D448+1233992]\n\tOrdinal0 [0x0088D63B+1234491]\n\tOrdinal0 [0x008B7812+1406994]\n\tOrdinal0 [0x008A650A+1336586]\n\tOrdinal0 [0x008B5BBF+1399743]\n\tOrdinal0 [0x008A639B+1336219]\n\tOrdinal0 [0x008827A7+1189799]\n\tOrdinal0 [0x00883609+1193481]\n\tGetHandleVerifier [0x00B55904+1577972]\n\tGetHandleVerifier [0x00C00B97+2279047]\n\tGetHandleVerifier [0x00A56D09+534521]\n\tGetHandleVerifier [0x00A55DB9+530601]\n\tOrdinal0 [0x00964FF9+2117625]\n\tOrdinal0 [0x009698A8+2136232]\n\tOrdinal0 [0x009699E2+2136546]\n\tOrdinal0 [0x00973541+2176321]\n\tBaseThreadInitThunk [0x752AFA29+25]\n\tRtlGetAppContainerNamedObjectPath [0x77387A9E+286]\n\tRtlGetAppContainerNamedObjectPath [0x77387A6E+238]\n",
     "output_type": "error",
     "traceback": [
      "\u001b[1;31m---------------------------------------------------------------------------\u001b[0m",
      "\u001b[1;31mNoSuchElementException\u001b[0m                    Traceback (most recent call last)",
      "\u001b[1;32m<ipython-input-16-53c9557c8fb1>\u001b[0m in \u001b[0;36m<module>\u001b[1;34m\u001b[0m\n\u001b[0;32m      1\u001b[0m \u001b[0mtime\u001b[0m\u001b[1;33m.\u001b[0m\u001b[0msleep\u001b[0m\u001b[1;33m(\u001b[0m\u001b[1;36m3\u001b[0m\u001b[1;33m)\u001b[0m\u001b[1;33m\u001b[0m\u001b[1;33m\u001b[0m\u001b[0m\n\u001b[1;32m----> 2\u001b[1;33m \u001b[0melem\u001b[0m \u001b[1;33m=\u001b[0m \u001b[0mdriver\u001b[0m\u001b[1;33m.\u001b[0m\u001b[0mfind_element\u001b[0m\u001b[1;33m(\u001b[0m\u001b[0mBy\u001b[0m\u001b[1;33m.\u001b[0m\u001b[0mXPATH\u001b[0m\u001b[1;33m,\u001b[0m \u001b[1;34m'//div[text()=\"taflahi@gmail.com\"]/following-sibling::div'\u001b[0m\u001b[1;33m)\u001b[0m\u001b[1;33m\u001b[0m\u001b[1;33m\u001b[0m\u001b[0m\n\u001b[0m\u001b[0;32m      3\u001b[0m \u001b[0melem\u001b[0m \u001b[1;33m=\u001b[0m \u001b[0melem\u001b[0m\u001b[1;33m.\u001b[0m\u001b[0mfind_element\u001b[0m\u001b[1;33m(\u001b[0m\u001b[0mBy\u001b[0m\u001b[1;33m.\u001b[0m\u001b[0mTAG_NAME\u001b[0m\u001b[1;33m,\u001b[0m \u001b[1;34m'button'\u001b[0m\u001b[1;33m)\u001b[0m\u001b[1;33m\u001b[0m\u001b[1;33m\u001b[0m\u001b[0m\n\u001b[0;32m      4\u001b[0m \u001b[0mprint\u001b[0m\u001b[1;33m(\u001b[0m\u001b[0melem\u001b[0m\u001b[1;33m.\u001b[0m\u001b[0mtext\u001b[0m\u001b[1;33m)\u001b[0m\u001b[1;33m\u001b[0m\u001b[1;33m\u001b[0m\u001b[0m\n\u001b[0;32m      5\u001b[0m \u001b[0mtime\u001b[0m\u001b[1;33m.\u001b[0m\u001b[0msleep\u001b[0m\u001b[1;33m(\u001b[0m\u001b[1;36m1\u001b[0m\u001b[1;33m)\u001b[0m\u001b[1;33m\u001b[0m\u001b[1;33m\u001b[0m\u001b[0m\n",
      "\u001b[1;32m~\\anaconda3\\lib\\site-packages\\selenium\\webdriver\\remote\\webdriver.py\u001b[0m in \u001b[0;36mfind_element\u001b[1;34m(self, by, value)\u001b[0m\n\u001b[0;32m   1242\u001b[0m             \u001b[0mvalue\u001b[0m \u001b[1;33m=\u001b[0m \u001b[1;34m'[name=\"%s\"]'\u001b[0m \u001b[1;33m%\u001b[0m \u001b[0mvalue\u001b[0m\u001b[1;33m\u001b[0m\u001b[1;33m\u001b[0m\u001b[0m\n\u001b[0;32m   1243\u001b[0m \u001b[1;33m\u001b[0m\u001b[0m\n\u001b[1;32m-> 1244\u001b[1;33m         return self.execute(Command.FIND_ELEMENT, {\n\u001b[0m\u001b[0;32m   1245\u001b[0m             \u001b[1;34m'using'\u001b[0m\u001b[1;33m:\u001b[0m \u001b[0mby\u001b[0m\u001b[1;33m,\u001b[0m\u001b[1;33m\u001b[0m\u001b[1;33m\u001b[0m\u001b[0m\n\u001b[0;32m   1246\u001b[0m             'value': value})['value']\n",
      "\u001b[1;32m~\\anaconda3\\lib\\site-packages\\selenium\\webdriver\\remote\\webdriver.py\u001b[0m in \u001b[0;36mexecute\u001b[1;34m(self, driver_command, params)\u001b[0m\n\u001b[0;32m    422\u001b[0m         \u001b[0mresponse\u001b[0m \u001b[1;33m=\u001b[0m \u001b[0mself\u001b[0m\u001b[1;33m.\u001b[0m\u001b[0mcommand_executor\u001b[0m\u001b[1;33m.\u001b[0m\u001b[0mexecute\u001b[0m\u001b[1;33m(\u001b[0m\u001b[0mdriver_command\u001b[0m\u001b[1;33m,\u001b[0m \u001b[0mparams\u001b[0m\u001b[1;33m)\u001b[0m\u001b[1;33m\u001b[0m\u001b[1;33m\u001b[0m\u001b[0m\n\u001b[0;32m    423\u001b[0m         \u001b[1;32mif\u001b[0m \u001b[0mresponse\u001b[0m\u001b[1;33m:\u001b[0m\u001b[1;33m\u001b[0m\u001b[1;33m\u001b[0m\u001b[0m\n\u001b[1;32m--> 424\u001b[1;33m             \u001b[0mself\u001b[0m\u001b[1;33m.\u001b[0m\u001b[0merror_handler\u001b[0m\u001b[1;33m.\u001b[0m\u001b[0mcheck_response\u001b[0m\u001b[1;33m(\u001b[0m\u001b[0mresponse\u001b[0m\u001b[1;33m)\u001b[0m\u001b[1;33m\u001b[0m\u001b[1;33m\u001b[0m\u001b[0m\n\u001b[0m\u001b[0;32m    425\u001b[0m             response['value'] = self._unwrap_value(\n\u001b[0;32m    426\u001b[0m                 response.get('value', None))\n",
      "\u001b[1;32m~\\anaconda3\\lib\\site-packages\\selenium\\webdriver\\remote\\errorhandler.py\u001b[0m in \u001b[0;36mcheck_response\u001b[1;34m(self, response)\u001b[0m\n\u001b[0;32m    245\u001b[0m                 \u001b[0malert_text\u001b[0m \u001b[1;33m=\u001b[0m \u001b[0mvalue\u001b[0m\u001b[1;33m[\u001b[0m\u001b[1;34m'alert'\u001b[0m\u001b[1;33m]\u001b[0m\u001b[1;33m.\u001b[0m\u001b[0mget\u001b[0m\u001b[1;33m(\u001b[0m\u001b[1;34m'text'\u001b[0m\u001b[1;33m)\u001b[0m\u001b[1;33m\u001b[0m\u001b[1;33m\u001b[0m\u001b[0m\n\u001b[0;32m    246\u001b[0m             \u001b[1;32mraise\u001b[0m \u001b[0mexception_class\u001b[0m\u001b[1;33m(\u001b[0m\u001b[0mmessage\u001b[0m\u001b[1;33m,\u001b[0m \u001b[0mscreen\u001b[0m\u001b[1;33m,\u001b[0m \u001b[0mstacktrace\u001b[0m\u001b[1;33m,\u001b[0m \u001b[0malert_text\u001b[0m\u001b[1;33m)\u001b[0m  \u001b[1;31m# type: ignore[call-arg]  # mypy is not smart enough here\u001b[0m\u001b[1;33m\u001b[0m\u001b[1;33m\u001b[0m\u001b[0m\n\u001b[1;32m--> 247\u001b[1;33m         \u001b[1;32mraise\u001b[0m \u001b[0mexception_class\u001b[0m\u001b[1;33m(\u001b[0m\u001b[0mmessage\u001b[0m\u001b[1;33m,\u001b[0m \u001b[0mscreen\u001b[0m\u001b[1;33m,\u001b[0m \u001b[0mstacktrace\u001b[0m\u001b[1;33m)\u001b[0m\u001b[1;33m\u001b[0m\u001b[1;33m\u001b[0m\u001b[0m\n\u001b[0m\u001b[0;32m    248\u001b[0m \u001b[1;33m\u001b[0m\u001b[0m\n\u001b[0;32m    249\u001b[0m     \u001b[1;32mdef\u001b[0m \u001b[0m_value_or_default\u001b[0m\u001b[1;33m(\u001b[0m\u001b[0mself\u001b[0m\u001b[1;33m,\u001b[0m \u001b[0mobj\u001b[0m\u001b[1;33m:\u001b[0m \u001b[0mMapping\u001b[0m\u001b[1;33m[\u001b[0m\u001b[0m_KT\u001b[0m\u001b[1;33m,\u001b[0m \u001b[0m_VT\u001b[0m\u001b[1;33m]\u001b[0m\u001b[1;33m,\u001b[0m \u001b[0mkey\u001b[0m\u001b[1;33m:\u001b[0m \u001b[0m_KT\u001b[0m\u001b[1;33m,\u001b[0m \u001b[0mdefault\u001b[0m\u001b[1;33m:\u001b[0m \u001b[0m_VT\u001b[0m\u001b[1;33m)\u001b[0m \u001b[1;33m->\u001b[0m \u001b[0m_VT\u001b[0m\u001b[1;33m:\u001b[0m\u001b[1;33m\u001b[0m\u001b[1;33m\u001b[0m\u001b[0m\n",
      "\u001b[1;31mNoSuchElementException\u001b[0m: Message: no such element: Unable to locate element: {\"method\":\"xpath\",\"selector\":\"//div[text()=\"taflahi@gmail.com\"]/following-sibling::div\"}\n  (Session info: headless chrome=96.0.4664.110)\nStacktrace:\nBacktrace:\n\tOrdinal0 [0x009C6903+2517251]\n\tOrdinal0 [0x0095F8E1+2095329]\n\tOrdinal0 [0x00862848+1058888]\n\tOrdinal0 [0x0088D448+1233992]\n\tOrdinal0 [0x0088D63B+1234491]\n\tOrdinal0 [0x008B7812+1406994]\n\tOrdinal0 [0x008A650A+1336586]\n\tOrdinal0 [0x008B5BBF+1399743]\n\tOrdinal0 [0x008A639B+1336219]\n\tOrdinal0 [0x008827A7+1189799]\n\tOrdinal0 [0x00883609+1193481]\n\tGetHandleVerifier [0x00B55904+1577972]\n\tGetHandleVerifier [0x00C00B97+2279047]\n\tGetHandleVerifier [0x00A56D09+534521]\n\tGetHandleVerifier [0x00A55DB9+530601]\n\tOrdinal0 [0x00964FF9+2117625]\n\tOrdinal0 [0x009698A8+2136232]\n\tOrdinal0 [0x009699E2+2136546]\n\tOrdinal0 [0x00973541+2176321]\n\tBaseThreadInitThunk [0x752AFA29+25]\n\tRtlGetAppContainerNamedObjectPath [0x77387A9E+286]\n\tRtlGetAppContainerNamedObjectPath [0x77387A6E+238]\n"
     ]
    }
   ],
   "source": [
    "time.sleep(3)\n",
    "elem = driver.find_element(By.XPATH, '//div[text()=\"taflahi@gmail.com\"]/following-sibling::div')\n",
    "elem = elem.find_element(By.TAG_NAME, 'button')\n",
    "print(elem.text)\n",
    "time.sleep(1)\n",
    "elem.click()\n",
    "time.sleep(10)\n",
    "try:\n",
    "    elem = driver.find_element(By.XPATH, '//div[text()=\"taflahi@gmail.com\"]')\n",
    "    print(elem)\n",
    "except:\n",
    "    print(\"deleted\")"
   ]
  },
  {
   "cell_type": "code",
   "execution_count": 16,
   "id": "64ecb3aa",
   "metadata": {},
   "outputs": [],
   "source": [
    "# driver = webdriver.Chrome(executable_path=\"C:\\\\Users\\\\Tirmidzi\\\\Documents\\\\Codes\\\\drivers\\\\chromedriver.exe\")\n",
    "# driver.set_window_size(1920, 1080)\n",
    "# driver.get(\"http://localhost:3000\")"
   ]
  },
  {
   "cell_type": "code",
   "execution_count": 17,
   "id": "0b711e54",
   "metadata": {},
   "outputs": [],
   "source": [
    "# elem = driver.find_element(By.LINK_TEXT, 'Card Grid')\n",
    "# elem.click()"
   ]
  },
  {
   "cell_type": "code",
   "execution_count": 18,
   "id": "39fa4252",
   "metadata": {},
   "outputs": [],
   "source": [
    "# elem = driver.find_elements(By.CLASS_NAME, 'card')\n",
    "# len(elem)"
   ]
  },
  {
   "cell_type": "code",
   "execution_count": null,
   "id": "6ea7ab62",
   "metadata": {},
   "outputs": [],
   "source": []
  }
 ],
 "metadata": {
  "kernelspec": {
   "display_name": "Python 3",
   "language": "python",
   "name": "python3"
  },
  "language_info": {
   "codemirror_mode": {
    "name": "ipython",
    "version": 3
   },
   "file_extension": ".py",
   "mimetype": "text/x-python",
   "name": "python",
   "nbconvert_exporter": "python",
   "pygments_lexer": "ipython3",
   "version": "3.8.8"
  }
 },
 "nbformat": 4,
 "nbformat_minor": 5
}
