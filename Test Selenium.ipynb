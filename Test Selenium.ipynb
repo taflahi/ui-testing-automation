{
 "cells": [
  {
   "cell_type": "markdown",
   "id": "d72c3991",
   "metadata": {},
   "source": [
    "Mulai dengan import package yang dibutuhkan"
   ]
  },
  {
   "cell_type": "code",
   "execution_count": 1,
   "id": "c06859f2",
   "metadata": {},
   "outputs": [],
   "source": [
    "from selenium import webdriver\n",
    "from selenium.webdriver.common.keys import Keys\n",
    "from selenium.webdriver.common.by import By\n",
    "from selenium.webdriver.chrome.options import Options\n",
    "import time"
   ]
  },
  {
   "cell_type": "markdown",
   "id": "79a7c787",
   "metadata": {},
   "source": [
    "Inisialisasi driver/browser automation"
   ]
  },
  {
   "cell_type": "code",
   "execution_count": 2,
   "id": "e5e01861",
   "metadata": {},
   "outputs": [
    {
     "name": "stderr",
     "output_type": "stream",
     "text": [
      "<ipython-input-2-c827b7226129>:3: DeprecationWarning: executable_path has been deprecated, please pass in a Service object\n",
      "  driver = webdriver.Chrome(\"chromedriver.exe\", chrome_options=options)\n",
      "<ipython-input-2-c827b7226129>:3: DeprecationWarning: use options instead of chrome_options\n",
      "  driver = webdriver.Chrome(\"chromedriver.exe\", chrome_options=options)\n"
     ]
    }
   ],
   "source": [
    "options = Options()\n",
    "# options.add_argument('--headless')\n",
    "driver = webdriver.Chrome(\"chromedriver.exe\", chrome_options=options)\n",
    "driver.set_window_size(1920, 1080)\n",
    "driver.get(\"http://localhost:3000\")"
   ]
  },
  {
   "cell_type": "markdown",
   "id": "ce24bed2",
   "metadata": {},
   "source": [
    "Mencari komponen dengan teks, lalu klik"
   ]
  },
  {
   "cell_type": "code",
   "execution_count": 3,
   "id": "84d96cc9",
   "metadata": {},
   "outputs": [],
   "source": [
    "elem = driver.find_element(By.LINK_TEXT, 'User Registration')\n",
    "elem.click()"
   ]
  },
  {
   "cell_type": "markdown",
   "id": "b70bfc41",
   "metadata": {},
   "source": [
    "Mencari komponen dengan ID"
   ]
  },
  {
   "cell_type": "code",
   "execution_count": 4,
   "id": "7ae6335a",
   "metadata": {},
   "outputs": [],
   "source": [
    "elem = driver.find_element(By.ID, 'lastName')\n",
    "elem.clear()\n",
    "elem.send_keys(\"Aflahi\")"
   ]
  },
  {
   "cell_type": "code",
   "execution_count": 5,
   "id": "8a83091c",
   "metadata": {},
   "outputs": [],
   "source": [
    "elem = driver.find_element(By.ID, 'firstName')\n",
    "elem.clear()\n",
    "elem.send_keys(\"Tirmidzi\")"
   ]
  },
  {
   "cell_type": "code",
   "execution_count": 6,
   "id": "210812f8",
   "metadata": {},
   "outputs": [],
   "source": [
    "elem = driver.find_element(By.ID, 'userName')\n",
    "elem.clear()\n",
    "elem.send_keys(\"taflahi\")"
   ]
  },
  {
   "cell_type": "code",
   "execution_count": 7,
   "id": "3f597922",
   "metadata": {},
   "outputs": [],
   "source": [
    "elem = driver.find_element(By.ID, 'email')\n",
    "elem.clear()\n",
    "elem.send_keys(\"taflahi@gmail.com\")"
   ]
  },
  {
   "cell_type": "markdown",
   "id": "75ba7e6b",
   "metadata": {},
   "source": [
    "Mencari komponen dengan [XPATH](https://www.w3schools.com/xml/xpath_intro.asp)"
   ]
  },
  {
   "cell_type": "code",
   "execution_count": 8,
   "id": "05a1c970",
   "metadata": {},
   "outputs": [],
   "source": [
    "elem = driver.find_element(By.XPATH, '//button[text()=\"REGISTER\"]')\n",
    "elem.click()"
   ]
  },
  {
   "cell_type": "markdown",
   "id": "afc1c154",
   "metadata": {},
   "source": [
    "Menutup browser"
   ]
  },
  {
   "cell_type": "code",
   "execution_count": 9,
   "id": "6f9f58fd",
   "metadata": {},
   "outputs": [],
   "source": [
    "# driver.close()"
   ]
  },
  {
   "cell_type": "code",
   "execution_count": null,
   "id": "6ea7ab62",
   "metadata": {},
   "outputs": [],
   "source": []
  }
 ],
 "metadata": {
  "kernelspec": {
   "display_name": "Python 3",
   "language": "python",
   "name": "python3"
  },
  "language_info": {
   "codemirror_mode": {
    "name": "ipython",
    "version": 3
   },
   "file_extension": ".py",
   "mimetype": "text/x-python",
   "name": "python",
   "nbconvert_exporter": "python",
   "pygments_lexer": "ipython3",
   "version": "3.8.8"
  }
 },
 "nbformat": 4,
 "nbformat_minor": 5
}
